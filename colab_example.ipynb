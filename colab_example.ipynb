{
  "nbformat": 4,
  "nbformat_minor": 0,
  "metadata": {
    "colab": {
      "name": "environment-setup.ipynb",
      "provenance": [],
      "authorship_tag": "ABX9TyP52qSLgKW36dURfb2H4ngG",
      "include_colab_link": true
    },
    "kernelspec": {
      "name": "python3",
      "display_name": "Python 3"
    }
  },
  "cells": [
    {
      "cell_type": "markdown",
      "metadata": {
        "id": "view-in-github",
        "colab_type": "text"
      },
      "source": [
        "<a href=\"https://colab.research.google.com/github/mitsrl/8.942-hello-world/blob/main/colab_example.ipynb\" target=\"_parent\"><img src=\"https://colab.research.google.com/assets/colab-badge.svg\" alt=\"Open In Colab\"/></a>"
      ]
    },
    {
      "cell_type": "markdown",
      "metadata": {
        "id": "acMXRBMpIkia"
      },
      "source": [
        "**Example Notebook Setup**\n",
        "\n",
        "Before starting we need to give this notebook access to the code in your git repository.\n",
        "\n",
        "The first time you use this notebook, you need to generate a \"key pair\" and set it up so it has access to your repo by making the adding the public key as a \"deploy key\" (under the repo settings on Github). Save these key files for future sessions - after a period of inactivity, Google will shut down your environment. That will preserve your code but reset the internal state of the system so you need to rerun all the cells.\n",
        "\n",
        "You should treat these private keys as disposable passwords to your Github repo. Do not reuse keys between repos (but it may be convienient to share them with trusted collaborators)."
      ]
    },
    {
      "cell_type": "code",
      "metadata": {
        "id": "h9VhqH4tOojH"
      },
      "source": [
        "# Set the name and organization for your repo here (found on the repos Github\n",
        "# Page). Then run this cell.\n",
        "REPO_NAME = \"8.942-hello-world\"\n",
        "ORG_NAME = \"mitsrl\""
      ],
      "execution_count": 1,
      "outputs": []
    },
    {
      "cell_type": "code",
      "metadata": {
        "id": "YfcSDPwKNwzG",
        "colab": {
          "base_uri": "https://localhost:8080/"
        },
        "outputId": "37bd0aa9-d9f5-4446-a393-54039e66d05b"
      },
      "source": [
        "# This cell generates a new ssh key pair and downloads it.\n",
        "# You only need to run this once and download the resulting keys.\n",
        "\n",
        "# Alternately, you can upload a private key that you've already setup for this\n",
        "# notebook using \"Files\" in the sidepane on the left.\n",
        "from os import path\n",
        "keyfile = \"/content/id_rsa_%s\" % REPO_NAME\n",
        "if not path.exists(keyfile):\n",
        "    !ssh-keygen -f {keyfile} -q -N \"\"\n",
        "    print(\"Add this deploy key to repo:\")\n",
        "    !cat {keyfile}.pub\n",
        "    print(\"Download the keys using the 'Files' menu on the left so you\"\n",
        "          \" can authenticate in future sessions.\")"
      ],
      "execution_count": 5,
      "outputs": [
        {
          "output_type": "stream",
          "name": "stdout",
          "text": [
            "Add this deploy key to repo:\n",
            "ssh-rsa AAAAB3NzaC1yc2EAAAADAQABAAABAQDPMamXJLHFeX46q+ZPXyxyGodVgmbvadpks1ftnXtC6SGAODcVNL6tmv4JIqGFP1SCobk3rOxzPv89Xk8/tePZM3Y9lEiiOS7gV0AhcMHSoJpP3du0R6RrQxnQ44wLPkQyUXQXaLX63ELaQ5pjL4AzrV6GMXB9smTxt1yYK6ysOkV8UebEGniiLD3PrdcdWBaFu2EAmpzq5OX9kSoaJQ+mzDChhDGlVJwN0+/KKDaBgiagXA9LCiv1VUS4mT3ZcmcrTcCE549SjqKf4Mf+r4uaZhnIGZlZ1C7axjoGsZBztNAdCibEnig9iGKNi03T+/nJnrUhzihi41cz+xR/H9CV root@48c8121d59ef\n",
            "Download the keys using the 'Files' menu on the left so you can authenticate in future sessions.\n"
          ]
        }
      ]
    },
    {
      "cell_type": "code",
      "metadata": {
        "id": "trnGLH7YDWet",
        "colab": {
          "base_uri": "https://localhost:8080/"
        },
        "outputId": "11cf3df7-7f1b-4c94-902d-68615424f095"
      },
      "source": [
        "# Once your keys are generated and setup for repo access, this cell clones\n",
        "# The repository and installs the package. Run this every time you start the\n",
        "# Notebook.\n",
        "\n",
        "!chmod 600 id_rsa_{REPO_NAME}\n",
        "%env GIT_SSH_COMMAND=ssh -i /content/id_rsa_{REPO_NAME} -o IdentitiesOnly=yes -F /dev/null -o StrictHostKeyChecking=no\n",
        "# Clone (download) the repo.\n",
        "!git clone git@github.com:{ORG_NAME}/{REPO_NAME}.git\n",
        "# Enter the repo directory and install the software, including dependecies.\n",
        "%cd {REPO_NAME}\n",
        "!pip install ."
      ],
      "execution_count": 2,
      "outputs": [
        {
          "output_type": "stream",
          "name": "stdout",
          "text": [
            "env: GIT_SSH_COMMAND=ssh -i /content/id_rsa_8.942-hello-world -o IdentitiesOnly=yes -F /dev/null -o StrictHostKeyChecking=no\n",
            "Cloning into '8.942-hello-world'...\n",
            "Failed to add the host to the list of known hosts (/root/.ssh/known_hosts).\n",
            "remote: Enumerating objects: 52, done.\u001b[K\n",
            "remote: Counting objects: 100% (52/52), done.\u001b[K\n",
            "remote: Compressing objects: 100% (43/43), done.\u001b[K\n",
            "remote: Total 52 (delta 21), reused 17 (delta 4), pack-reused 0\u001b[K\n",
            "Receiving objects: 100% (52/52), 12.00 KiB | 12.00 MiB/s, done.\n",
            "Resolving deltas: 100% (21/21), done.\n",
            "/content/8.942-hello-world\n",
            "Looking in indexes: https://pypi.org/simple, https://us-python.pkg.dev/colab-wheels/public/simple/\n",
            "Processing /content/8.942-hello-world\n",
            "\u001b[33m  DEPRECATION: A future pip version will change local packages to be built in-place without first copying to a temporary directory. We recommend you use --use-feature=in-tree-build to test your packages with this new behavior before it becomes the default.\n",
            "   pip 21.3 will remove support for this functionality. You can find discussion regarding this at https://github.com/pypa/pip/issues/7555.\u001b[0m\n",
            "  Installing build dependencies ... \u001b[?25l\u001b[?25hdone\n",
            "  Getting requirements to build wheel ... \u001b[?25l\u001b[?25hdone\n",
            "    Preparing wheel metadata ... \u001b[?25l\u001b[?25hdone\n",
            "Building wheels for collected packages: UNKNOWN\n",
            "  Building wheel for UNKNOWN (PEP 517) ... \u001b[?25l\u001b[?25hdone\n",
            "  Created wheel for UNKNOWN: filename=UNKNOWN-0.0.0-py3-none-any.whl size=1786 sha256=451fd3382b9158f4d95d59d0b70d62af1eb00311fb1edadc27ecc1e35967ca4d\n",
            "  Stored in directory: /tmp/pip-ephem-wheel-cache-yofq907p/wheels/53/30/bd/6c88414cfc462942af0f9f193f14a559e4e9f1848d0bb50170\n",
            "Successfully built UNKNOWN\n",
            "Installing collected packages: UNKNOWN\n",
            "Successfully installed UNKNOWN-0.0.0\n"
          ]
        }
      ]
    },
    {
      "cell_type": "markdown",
      "metadata": {
        "id": "3c9897ouMgck"
      },
      "source": [
        "After the above, the code should be all set up. You can now import and use it, interact with the repo using git, and run the tests."
      ]
    },
    {
      "cell_type": "code",
      "metadata": {
        "id": "H9YKPIp5H-XI"
      },
      "source": [
        "from hello_world import hello_world"
      ],
      "execution_count": 3,
      "outputs": []
    },
    {
      "cell_type": "code",
      "source": [
        "# Only run this cell when you need to sync changes from github to Colab.\n",
        "\n",
        "# If you make changes to the code on GitHub, you can sync them to here using this cell.\n",
        "!git pull\n",
        "# After pulling a new version of the code you need to reload it.\n",
        "import importlib\n",
        "importlib.reload(hello_world)"
      ],
      "metadata": {
        "id": "nx1E10nqmVT8",
        "outputId": "5daf7353-4511-4de1-a4f2-ddc1ae6a943d",
        "colab": {
          "base_uri": "https://localhost:8080/"
        }
      },
      "execution_count": 4,
      "outputs": [
        {
          "output_type": "stream",
          "name": "stdout",
          "text": [
            "Failed to add the host to the list of known hosts (/root/.ssh/known_hosts).\r\n",
            "Already up to date.\n"
          ]
        },
        {
          "output_type": "execute_result",
          "data": {
            "text/plain": [
              "<module 'hello_world.hello_world' from '/content/8.942-hello-world/hello_world/hello_world.py'>"
            ]
          },
          "metadata": {},
          "execution_count": 4
        }
      ]
    },
    {
      "cell_type": "code",
      "metadata": {
        "id": "r-CU_KC9OkWe",
        "colab": {
          "base_uri": "https://localhost:8080/",
          "height": 37
        },
        "outputId": "5bf6b236-9bc9-4c56-8146-5f7374987cb4"
      },
      "source": [
        "# Running code from the repo\n",
        "hello_world.hello(\"Me\")"
      ],
      "execution_count": 5,
      "outputs": [
        {
          "output_type": "execute_result",
          "data": {
            "text/plain": [
              "'Helo Me'"
            ],
            "application/vnd.google.colaboratory.intrinsic+json": {
              "type": "string"
            }
          },
          "metadata": {},
          "execution_count": 5
        }
      ]
    },
    {
      "cell_type": "code",
      "metadata": {
        "id": "s3XmUE62H_P6",
        "colab": {
          "base_uri": "https://localhost:8080/"
        },
        "outputId": "58d13f54-a12f-4782-a390-4bf95d2750ae"
      },
      "source": [
        "# Examples of more command line functionality.\n",
        "%ls\n",
        "!git status"
      ],
      "execution_count": 6,
      "outputs": [
        {
          "output_type": "stream",
          "name": "stdout",
          "text": [
            "environment_setup.ipynb  \u001b[0m\u001b[01;34mhello_world\u001b[0m/  LICENSE  pyproject.toml  README.md\n",
            "On branch main\n",
            "Your branch is up to date with 'origin/main'.\n",
            "\n",
            "nothing to commit, working tree clean\n"
          ]
        }
      ]
    },
    {
      "cell_type": "code",
      "metadata": {
        "id": "yjI2fwfDIDaO",
        "colab": {
          "base_uri": "https://localhost:8080/"
        },
        "outputId": "bdcbcade-3108-46f4-95db-66604ddf0812"
      },
      "source": [
        "# Here we run the unit tests that come with the code.\n",
        "!python -m pytest\n",
        "# Oh no! They fail. Can you find the bug on GitHub, fix it, sync the code back\n",
        "# To collab, and get the tests to pass?"
      ],
      "execution_count": 7,
      "outputs": [
        {
          "output_type": "stream",
          "name": "stdout",
          "text": [
            "\u001b[1m============================= test session starts ==============================\u001b[0m\n",
            "platform linux -- Python 3.7.13, pytest-3.6.4, py-1.11.0, pluggy-0.7.1\n",
            "rootdir: /content/8.942-hello-world, inifile:\n",
            "plugins: typeguard-2.7.1\n",
            "\u001b[1m\rcollecting 0 items                                                             \u001b[0m\u001b[1m\rcollecting 1 item                                                              \u001b[0m\u001b[1m\rcollected 1 item                                                               \u001b[0m\n",
            "\n",
            "hello_world/tests/test_hello_world.py F\u001b[36m                                  [100%]\u001b[0m\n",
            "\n",
            "=================================== FAILURES ===================================\n",
            "\u001b[31m\u001b[1m_______________________________ test_hello_world _______________________________\u001b[0m\n",
            "\n",
            "\u001b[1m    def test_hello_world():\u001b[0m\n",
            "\u001b[1m>       assert hello(\"Frank\") == \"Hello Frank\"\u001b[0m\n",
            "\u001b[1m\u001b[31mE       AssertionError: assert 'Helo Frank' == 'Hello Frank'\u001b[0m\n",
            "\u001b[1m\u001b[31mE         - Helo Frank\u001b[0m\n",
            "\u001b[1m\u001b[31mE         + Hello Frank\u001b[0m\n",
            "\u001b[1m\u001b[31mE         ?    +\u001b[0m\n",
            "\n",
            "\u001b[1m\u001b[31mhello_world/tests/test_hello_world.py\u001b[0m:6: AssertionError\n",
            "\u001b[31m\u001b[1m=========================== 1 failed in 0.04 seconds ===========================\u001b[0m\n"
          ]
        }
      ]
    },
    {
      "cell_type": "markdown",
      "source": [
        "At the end of the day, you can save this notebook back to your GitHub Repo using the \"File\" -> \"Save a copy to GitHub\" menu option."
      ],
      "metadata": {
        "id": "8u63-HIWSdFA"
      }
    },
    {
      "cell_type": "code",
      "source": [],
      "metadata": {
        "id": "IiSgrRdJoH2M"
      },
      "execution_count": null,
      "outputs": []
    }
  ]
}