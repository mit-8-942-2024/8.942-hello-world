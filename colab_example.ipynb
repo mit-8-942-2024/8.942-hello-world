{
  "nbformat": 4,
  "nbformat_minor": 0,
  "metadata": {
    "colab": {
      "name": "environment-setup.ipynb",
      "provenance": [],
      "authorship_tag": "ABX9TyP52qSLgKW36dURfb2H4ngG",
      "include_colab_link": true
    },
    "kernelspec": {
      "name": "python3",
      "display_name": "Python 3"
    }
  },
  "cells": [
    {
      "cell_type": "markdown",
      "metadata": {
        "id": "view-in-github",
        "colab_type": "text"
      },
      "source": [
        "<a href=\"https://colab.research.google.com/github/mitsrl/8.942-hello-world/blob/main/colab_example.ipynb\" target=\"_parent\"><img src=\"https://colab.research.google.com/assets/colab-badge.svg\" alt=\"Open In Colab\"/></a>"
      ]
    },
    {
      "cell_type": "markdown",
      "metadata": {
        "id": "acMXRBMpIkia"
      },
      "source": [
        "**Example Notebook Setup**\n",
        "\n",
        "Before starting we need to give this notebook access to the code in your git repository.\n",
        "\n",
        "The first time you use this notebook, you need to generate a \"key pair\" and set it up so it has access to your repo by making the adding the public key as a \"deploy key\" (under the repo settings on Github). Save these key files for future sessions - after a period of inactivity, Google will shut down your environment. That will preserve your code but reset the internal state of the system so you need to rerun all the cells.\n",
        "\n",
        "You should treat these private keys as disposable passwords to your Github repo. Do not reuse keys between repos (but it may be convienient to share them with trusted collaborators)."
      ]
    },
    {
      "cell_type": "code",
      "metadata": {
        "id": "h9VhqH4tOojH"
      },
      "source": [
        "# Set the name and organization for your repo here (found on the repos Github\n",
        "# Page). Then run this cell.\n",
        "REPO_NAME = \"8.942-hello-world\"\n",
        "ORG_NAME = \"mitsrl\""
      ],
      "execution_count": null,
      "outputs": []
    },
    {
      "cell_type": "code",
      "metadata": {
        "id": "YfcSDPwKNwzG"
      },
      "source": [
        "# This cell generates a new ssh key pair and downloads it.\n",
        "# You only need to run this once and download the resulting keys.\n",
        "\n",
        "# Alternately, you can upload a private key that you've already setup for this\n",
        "# notebook using \"Files\" in the sidepane on the left.\n",
        "from os import path\n",
        "keyfile = \"/content/id_rsa_%s\" % REPO_NAME\n",
        "if not path.exists(keyfile):\n",
        "    !ssh-keygen -f {keyfile} -q -N \"\"\n",
        "    print(\"Add this deploy key to repo:\")\n",
        "    !cat {keyfile}.pub\n",
        "    print(\"Download the keys using the 'Files' menu on the left so you\"\n",
        "          \" can authenticate in future sessions.\")"
      ],
      "execution_count": null,
      "outputs": []
    },
    {
      "cell_type": "code",
      "metadata": {
        "id": "trnGLH7YDWet"
      },
      "source": [
        "# Once your keys are generated and setup for repo access, this cell clones\n",
        "# The repository and installs the package. Run this every time you start the\n",
        "# Notebook.\n",
        "\n",
        "!chmod 600 id_rsa_{REPO_NAME}\n",
        "%env GIT_SSH_COMMAND=ssh -i /content/id_rsa_{REPO_NAME} -o IdentitiesOnly=yes -F /dev/null -o StrictHostKeyChecking=no\n",
        "# Clone (download) the repo.\n",
        "!git clone git@github.com:{ORG_NAME}/{REPO_NAME}.git\n",
        "# Enter the repo directory and install the software, including dependecies.\n",
        "%cd {REPO_NAME}\n",
        "!pip install ."
      ],
      "execution_count": null,
      "outputs": []
    },
    {
      "cell_type": "markdown",
      "metadata": {
        "id": "3c9897ouMgck"
      },
      "source": [
        "After the above, the code should be all set up. You can now import and use it, interact with the repo using git, and run the tests."
      ]
    },
    {
      "cell_type": "code",
      "metadata": {
        "id": "H9YKPIp5H-XI"
      },
      "source": [
        "from hello_world import hello_world"
      ],
      "execution_count": null,
      "outputs": []
    },
    {
      "cell_type": "code",
      "source": [
        "# Only run this cell when you need to sync changes from github to Colab.\n",
        "\n",
        "# If you make changes to the code on GitHub, you can sync them to here using this cell.\n",
        "!git pull\n",
        "# After pulling a new version of the code you need to reload it.\n",
        "import importlib\n",
        "importlib.reload(hello_world)"
      ],
      "metadata": {
        "id": "nx1E10nqmVT8"
      },
      "execution_count": null,
      "outputs": []
    },
    {
      "cell_type": "code",
      "metadata": {
        "id": "r-CU_KC9OkWe"
      },
      "source": [
        "# Running code from the repo\n",
        "hello_world.hello(\"Me\")"
      ],
      "execution_count": null,
      "outputs": []
    },
    {
      "cell_type": "code",
      "metadata": {
        "id": "s3XmUE62H_P6"
      },
      "source": [
        "# Examples of more command line functionality.\n",
        "%ls\n",
        "!git status"
      ],
      "execution_count": null,
      "outputs": []
    },
    {
      "cell_type": "code",
      "metadata": {
        "id": "yjI2fwfDIDaO"
      },
      "source": [
        "# Here we run the unit tests that come with the code.\n",
        "!python -m pytest\n",
        "# Oh no! They fail. Can you find the bug on GitHub, fix it, sync the code back\n",
        "# To collab, and get the tests to pass?"
      ],
      "execution_count": null,
      "outputs": []
    },
    {
      "cell_type": "markdown",
      "source": [
        "At the end of the day, you can save this notebook back to your GitHub Repo using the \"File\" -> \"Save a copy to GitHub\" menu option."
      ],
      "metadata": {
        "id": "8u63-HIWSdFA"
      }
    },
    {
      "cell_type": "code",
      "source": [],
      "metadata": {
        "id": "IiSgrRdJoH2M"
      },
      "execution_count": null,
      "outputs": []
    }
  ]
}