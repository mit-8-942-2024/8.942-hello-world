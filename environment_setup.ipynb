{
  "nbformat": 4,
  "nbformat_minor": 0,
  "metadata": {
    "colab": {
      "name": "environment-setup.ipynb",
      "provenance": [],
      "authorship_tag": "ABX9TyNEcFQ2dCct3C2o1jyW35vL",
      "include_colab_link": true
    },
    "kernelspec": {
      "name": "python3",
      "display_name": "Python 3"
    }
  },
  "cells": [
    {
      "cell_type": "markdown",
      "metadata": {
        "id": "view-in-github",
        "colab_type": "text"
      },
      "source": [
        "<a href=\"https://colab.research.google.com/github/mitsrl/8.942-hello-world/blob/main/environment_setup.ipynb\" target=\"_parent\"><img src=\"https://colab.research.google.com/assets/colab-badge.svg\" alt=\"Open In Colab\"/></a>"
      ]
    },
    {
      "cell_type": "markdown",
      "metadata": {
        "id": "acMXRBMpIkia",
        "colab_type": "text"
      },
      "source": [
        "**Example Notebook Setup**\n",
        "\n",
        "Before starting we need to give this notebook access to the git repository.\n",
        "\n",
        "Use the left sidebar to upload a private key and name the file \"id_rsa_REPO_NAME\" (replacing REPO_NAME with the Github repository name). If you've not yet generated a key, you can do so with the command `ssh-keygen -f id_rsa_REPO_NAME -q -N \"\"` in a terminal (if you don't have access to a terminal you can run the command directly in this notebook by preceding it with a `!`). Save a copy of your private key, you will need to upload it again every time Google shuts down your session. The corresponding public key should be added as a \"deploy key\" to the repository (under the repo settings on Github).\n",
        "\n",
        "You should treat these private keys as disposable passwords to your Github repo. Do not reuse keys between repos (but it may be convienient to share them with trusted collaborators)."
      ]
    },
    {
      "cell_type": "code",
      "metadata": {
        "id": "h9VhqH4tOojH",
        "colab_type": "code",
        "colab": {}
      },
      "source": [
        "# Set your repository name here.\n",
        "REPO_NAME = \"hello-world-kiyo-masui\"\n",
        "ORG_NAME = \"mit-8-942-2020\""
      ],
      "execution_count": 5,
      "outputs": []
    },
    {
      "cell_type": "code",
      "metadata": {
        "id": "YfcSDPwKNwzG",
        "colab_type": "code",
        "colab": {
          "base_uri": "https://localhost:8080/",
          "height": 88
        },
        "outputId": "95f8a80d-8477-4112-b078-9a1c9d562ae5"
      },
      "source": [
        "# This handy cell generates a new key pair and downloads the private key, should you need it.\n",
        "from os import path\n",
        "keyfile = \"/content/id_rsa_%s\" % REPO_NAME\n",
        "if not path.exists(keyfile):\n",
        "    !ssh-keygen -f {keyfile} -q -N \"\"\n",
        "    print(\"Add this deploy key to repo:\")\n",
        "    !cat {keyfile}.pub\n",
        "    from google.colab import files\n",
        "    files.download(keyfile)"
      ],
      "execution_count": 6,
      "outputs": [
        {
          "output_type": "stream",
          "text": [
            "Add this deploy key to repo:\n",
            "ssh-rsa AAAAB3NzaC1yc2EAAAADAQABAAABAQC000hDOabMIwMOkga1+P+zrgfUveclEy0A9VBWddNTSsFpX3KmA2BXDfRo6k+xESI5zWTGZSicaJGXX4//RruoPenPplOodqt7QswqYymdYgxX/ez7cCN8NSj6G0st/m9Z+ZvFg4ZbmDZE259lggKZofW2vbptGJtRuLUgJ0NVXyKAiVhQsgm+Lpb1dYCNQskrYDp3kdwSHhb+AFmNJ/uimxVLraXRwIJpw8eK+ggkbj/a39/aGaLzGMJYjUm3VAZE8AzpCUNXCtyne2Ufi0lmQZLa9zDK46PhqCyQqO1kXDhW7DjQMceIQTsvzrGUuJulfR1ntATkRPXNh0gQzEMN root@9ab1202a03d5\n"
          ],
          "name": "stdout"
        },
        {
          "output_type": "display_data",
          "data": {
            "application/javascript": [
              "\n",
              "    async function download(id, filename, size) {\n",
              "      if (!google.colab.kernel.accessAllowed) {\n",
              "        return;\n",
              "      }\n",
              "      const div = document.createElement('div');\n",
              "      const label = document.createElement('label');\n",
              "      label.textContent = `Downloading \"${filename}\": `;\n",
              "      div.appendChild(label);\n",
              "      const progress = document.createElement('progress');\n",
              "      progress.max = size;\n",
              "      div.appendChild(progress);\n",
              "      document.body.appendChild(div);\n",
              "\n",
              "      const buffers = [];\n",
              "      let downloaded = 0;\n",
              "\n",
              "      const channel = await google.colab.kernel.comms.open(id);\n",
              "      // Send a message to notify the kernel that we're ready.\n",
              "      channel.send({})\n",
              "\n",
              "      for await (const message of channel.messages) {\n",
              "        // Send a message to notify the kernel that we're ready.\n",
              "        channel.send({})\n",
              "        if (message.buffers) {\n",
              "          for (const buffer of message.buffers) {\n",
              "            buffers.push(buffer);\n",
              "            downloaded += buffer.byteLength;\n",
              "            progress.value = downloaded;\n",
              "          }\n",
              "        }\n",
              "      }\n",
              "      const blob = new Blob(buffers, {type: 'application/binary'});\n",
              "      const a = document.createElement('a');\n",
              "      a.href = window.URL.createObjectURL(blob);\n",
              "      a.download = filename;\n",
              "      div.appendChild(a);\n",
              "      a.click();\n",
              "      div.remove();\n",
              "    }\n",
              "  "
            ],
            "text/plain": [
              "<IPython.core.display.Javascript object>"
            ]
          },
          "metadata": {
            "tags": []
          }
        },
        {
          "output_type": "display_data",
          "data": {
            "application/javascript": [
              "download(\"download_93650e49-51c8-4f1d-8876-43e68ae7376d\", \"id_rsa_hello-world-kiyo-masui\", 1675)"
            ],
            "text/plain": [
              "<IPython.core.display.Javascript object>"
            ]
          },
          "metadata": {
            "tags": []
          }
        }
      ]
    },
    {
      "cell_type": "code",
      "metadata": {
        "id": "trnGLH7YDWet",
        "colab_type": "code",
        "colab": {
          "base_uri": "https://localhost:8080/",
          "height": 394
        },
        "outputId": "64d558d9-a616-4e56-8d78-dfd07029e3ca"
      },
      "source": [
        "# This is some basic setup of the authentication proceedure.\n",
        "!chmod 600 id_rsa_{REPO_NAME}\n",
        "%env GIT_SSH_COMMAND=ssh -i /content/id_rsa_{REPO_NAME} -o IdentitiesOnly=yes -F /dev/null -o StrictHostKeyChecking=no\n",
        "# Clone (download) the repo.\n",
        "!git clone git@github.com:{ORG_NAME}/{REPO_NAME}.git\n",
        "# Enter the repo directory and install the software, including dependecies.\n",
        "%cd {REPO_NAME}\n",
        "!pip install ."
      ],
      "execution_count": 7,
      "outputs": [
        {
          "output_type": "stream",
          "text": [
            "env: GIT_SSH_COMMAND=ssh -i /content/id_rsa_hello-world-kiyo-masui -o IdentitiesOnly=yes -F /dev/null -o StrictHostKeyChecking=no\n",
            "Cloning into 'hello-world-kiyo-masui'...\n",
            "Failed to add the host to the list of known hosts (/root/.ssh/known_hosts).\n",
            "remote: Enumerating objects: 18, done.\u001b[K\n",
            "remote: Counting objects: 100% (18/18), done.\u001b[K\n",
            "remote: Compressing objects: 100% (15/15), done.\u001b[K\n",
            "remote: Total 18 (delta 2), reused 0 (delta 0), pack-reused 0\u001b[K\n",
            "Receiving objects: 100% (18/18), 6.16 KiB | 6.16 MiB/s, done.\n",
            "Resolving deltas: 100% (2/2), done.\n",
            "/content/hello-world-kiyo-masui\n",
            "Processing /content/hello-world-kiyo-masui\n",
            "  Installing build dependencies ... \u001b[?25l\u001b[?25hdone\n",
            "  Getting requirements to build wheel ... \u001b[?25l\u001b[?25hdone\n",
            "    Preparing wheel metadata ... \u001b[?25l\u001b[?25hdone\n",
            "Building wheels for collected packages: UNKNOWN\n",
            "  Building wheel for UNKNOWN (PEP 517) ... \u001b[?25l\u001b[?25hdone\n",
            "  Created wheel for UNKNOWN: filename=UNKNOWN-0.0.0-cp36-none-any.whl size=1787 sha256=2d5ebac73087a9c16db0383935872f123491d6079c644e8a0155fda2e9caa591\n",
            "  Stored in directory: /root/.cache/pip/wheels/c6/6c/91/cabd22d694900d914e4dcbaeac047f02dcdb409ab4d0f12b42\n",
            "Successfully built UNKNOWN\n",
            "Installing collected packages: UNKNOWN\n",
            "Successfully installed UNKNOWN-0.0.0\n"
          ],
          "name": "stdout"
        }
      ]
    },
    {
      "cell_type": "markdown",
      "metadata": {
        "id": "3c9897ouMgck",
        "colab_type": "text"
      },
      "source": [
        "After the above, the code should be all set up. You can now import and use it, interact with the repo using git, and run the tests."
      ]
    },
    {
      "cell_type": "code",
      "metadata": {
        "id": "H9YKPIp5H-XI",
        "colab_type": "code",
        "colab": {
          "base_uri": "https://localhost:8080/",
          "height": 37
        },
        "outputId": "6add8b32-8731-48ee-c4a5-a18d56c943b7"
      },
      "source": [
        "from hello_world.hello_world import hello\n",
        "hello(\"Me\")"
      ],
      "execution_count": 8,
      "outputs": [
        {
          "output_type": "execute_result",
          "data": {
            "application/vnd.google.colaboratory.intrinsic+json": {
              "type": "string"
            },
            "text/plain": [
              "'Helo Me'"
            ]
          },
          "metadata": {
            "tags": []
          },
          "execution_count": 8
        }
      ]
    },
    {
      "cell_type": "code",
      "metadata": {
        "id": "s3XmUE62H_P6",
        "colab_type": "code",
        "colab": {
          "base_uri": "https://localhost:8080/",
          "height": 102
        },
        "outputId": "0189ac8e-72ad-4494-a5b0-1fe361fc35b7"
      },
      "source": [
        "%ls\n",
        "!git status"
      ],
      "execution_count": 9,
      "outputs": [
        {
          "output_type": "stream",
          "text": [
            "environment_setup.ipynb  \u001b[0m\u001b[01;34mhello_world\u001b[0m/  LICENSE  pyproject.toml  README.md\n",
            "On branch main\n",
            "Your branch is up to date with 'origin/main'.\n",
            "\n",
            "nothing to commit, working tree clean\n"
          ],
          "name": "stdout"
        }
      ]
    },
    {
      "cell_type": "code",
      "metadata": {
        "id": "yjI2fwfDIDaO",
        "colab_type": "code",
        "colab": {
          "base_uri": "https://localhost:8080/",
          "height": 357
        },
        "outputId": "74dd50bd-0770-4c40-fd1f-2e523dd02e5f"
      },
      "source": [
        "!python -m pytest"
      ],
      "execution_count": 10,
      "outputs": [
        {
          "output_type": "stream",
          "text": [
            "\u001b[1m============================= test session starts ==============================\u001b[0m\n",
            "platform linux -- Python 3.6.9, pytest-3.6.4, py-1.9.0, pluggy-0.7.1\n",
            "rootdir: /content/hello-world-kiyo-masui, inifile:\n",
            "plugins: typeguard-2.7.1\n",
            "\u001b[1m\rcollecting 0 items                                                             \u001b[0m\u001b[1m\rcollecting 1 item                                                              \u001b[0m\u001b[1m\rcollected 1 item                                                               \u001b[0m\n",
            "\n",
            "hello_world/tests/test_hello_world.py F\u001b[36m                                  [100%]\u001b[0m\n",
            "\n",
            "=================================== FAILURES ===================================\n",
            "\u001b[31m\u001b[1m______________________________ test_hellow_world _______________________________\u001b[0m\n",
            "\n",
            "\u001b[1m    def test_hellow_world():\u001b[0m\n",
            "\u001b[1m>       assert hello(\"Frank\") == \"Hello Frank\"\u001b[0m\n",
            "\u001b[1m\u001b[31mE       AssertionError: assert 'Helo Frank' == 'Hello Frank'\u001b[0m\n",
            "\u001b[1m\u001b[31mE         - Helo Frank\u001b[0m\n",
            "\u001b[1m\u001b[31mE         + Hello Frank\u001b[0m\n",
            "\u001b[1m\u001b[31mE         ?    +\u001b[0m\n",
            "\n",
            "\u001b[1m\u001b[31mhello_world/tests/test_hello_world.py\u001b[0m:6: AssertionError\n",
            "\u001b[31m\u001b[1m=========================== 1 failed in 0.04 seconds ===========================\u001b[0m\n"
          ],
          "name": "stdout"
        }
      ]
    },
    {
      "cell_type": "code",
      "metadata": {
        "id": "r-CU_KC9OkWe",
        "colab_type": "code",
        "colab": {}
      },
      "source": [
        ""
      ],
      "execution_count": null,
      "outputs": []
    }
  ]
}