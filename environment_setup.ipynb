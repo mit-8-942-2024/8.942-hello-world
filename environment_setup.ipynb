{
  "nbformat": 4,
  "nbformat_minor": 0,
  "metadata": {
    "colab": {
      "name": "environment-setup.ipynb",
      "provenance": [],
      "authorship_tag": "ABX9TyPMFkjaWSlHz6zghLHsrnOj",
      "include_colab_link": true
    },
    "kernelspec": {
      "name": "python3",
      "display_name": "Python 3"
    }
  },
  "cells": [
    {
      "cell_type": "markdown",
      "metadata": {
        "id": "view-in-github",
        "colab_type": "text"
      },
      "source": [
        "<a href=\"https://colab.research.google.com/github/mitsrl/8.942-hello-world/blob/main/environment_setup.ipynb\" target=\"_parent\"><img src=\"https://colab.research.google.com/assets/colab-badge.svg\" alt=\"Open In Colab\"/></a>"
      ]
    },
    {
      "cell_type": "markdown",
      "metadata": {
        "id": "acMXRBMpIkia",
        "colab_type": "text"
      },
      "source": [
        "**Example Notebook Setup**\n",
        "\n",
        "Before starting we need to give this notebook access to the git repository.\n",
        "\n",
        "Use the left sidebar to upload a private key and name the file \"id_rsa_REPO_NAME\" (replacing REPO_NAME with the Github repository name). If you've not yet generated a key, you can do so with the command `ssh-keygen -f id_rsa_REPO_NAME -q -N \"\"` in a terminal (if you don't have access to a terminal you can run the command directly in this notebook by preceding it with a `!`). Save a copy of your private key, you will need to upload it again every time Google shuts down your session. The corresponding public key should be added as a \"deploy key\" to the repository (under the repo settings on Github).\n",
        "\n",
        "You should treat these private keys as disposable passwords to your Github repo. Do not reuse keys between repos (but it may be convienient to share them with trusted collaborators)."
      ]
    },
    {
      "cell_type": "code",
      "metadata": {
        "id": "h9VhqH4tOojH",
        "colab_type": "code",
        "colab": {}
      },
      "source": [
        "# Set your repository name here.\n",
        "REPO_NAME = \"environment-setup-kiyo-masui\""
      ],
      "execution_count": null,
      "outputs": []
    },
    {
      "cell_type": "code",
      "metadata": {
        "id": "YfcSDPwKNwzG",
        "colab_type": "code",
        "colab": {}
      },
      "source": [
        "# This handy cell generates a new key pair and downloads the private key, should you need it.\n",
        "from os import path\n",
        "keyfile = \"/content/id_rsa_%s\" % REPO_NAME\n",
        "if not path.exists(keyfile):\n",
        "    !ssh-keygen -f {keyfile} -q -N \"\"\n",
        "    print(\"Add this deploy key to repo:\")\n",
        "    !cat {keyfile}.pub\n",
        "    from google.colab import files\n",
        "    files.download(keyfile)"
      ],
      "execution_count": null,
      "outputs": []
    },
    {
      "cell_type": "code",
      "metadata": {
        "id": "trnGLH7YDWet",
        "colab_type": "code",
        "colab": {
          "base_uri": "https://localhost:8080/",
          "height": 411
        },
        "outputId": "3cd101ed-d58b-433f-a2d2-ecd3389da8b2"
      },
      "source": [
        "# This is some basic setup of the authentication proceedure.\n",
        "!chmod 600 id_rsa\n",
        "%env GIT_SSH_COMMAND=ssh -i /content/id_rsa_{REPO_NAME} -o IdentitiesOnly=yes -F /dev/null -o StrictHostKeyChecking=no\n",
        "# Clone (download) the repo.\n",
        "!git clone git@github.com:mitsrl/{REPO_NAME}.git\n",
        "# Enter the repo directory and install the software, including dependecies.\n",
        "%cd {REPO_NAME}\n",
        "!pip install ."
      ],
      "execution_count": null,
      "outputs": [
        {
          "output_type": "stream",
          "text": [
            "chmod: cannot access 'id_rsa': No such file or directory\n",
            "env: GIT_SSH_COMMAND=ssh -i /content/id_rsa_environment-setup-kiyo-masui -o IdentitiesOnly=yes -F /dev/null -o StrictHostKeyChecking=no\n",
            "Cloning into 'environment-setup-kiyo-masui'...\n",
            "Failed to add the host to the list of known hosts (/root/.ssh/known_hosts).\n",
            "remote: Enumerating objects: 17, done.\u001b[K\n",
            "remote: Counting objects: 100% (17/17), done.\u001b[K\n",
            "remote: Compressing objects: 100% (14/14), done.\u001b[K\n",
            "remote: Total 17 (delta 2), reused 0 (delta 0), pack-reused 0\u001b[K\n",
            "Receiving objects: 100% (17/17), done.\n",
            "Resolving deltas: 100% (2/2), done.\n",
            "/content/environment-setup-kiyo-masui\n",
            "Processing /content/environment-setup-kiyo-masui\n",
            "  Installing build dependencies ... \u001b[?25l\u001b[?25hdone\n",
            "  Getting requirements to build wheel ... \u001b[?25l\u001b[?25hdone\n",
            "    Preparing wheel metadata ... \u001b[?25l\u001b[?25hdone\n",
            "Building wheels for collected packages: UNKNOWN\n",
            "  Building wheel for UNKNOWN (PEP 517) ... \u001b[?25l\u001b[?25hdone\n",
            "  Created wheel for UNKNOWN: filename=UNKNOWN-0.0.0-cp36-none-any.whl size=1787 sha256=f7157717f5d81de4c0421c0001408f2b2fc5dbc6d7c6cc2d2507e670a8734319\n",
            "  Stored in directory: /root/.cache/pip/wheels/9a/b1/33/c2e6b38144687a8a029bafbd301787cf3634e5f8ed94d19d06\n",
            "Successfully built UNKNOWN\n",
            "Installing collected packages: UNKNOWN\n",
            "Successfully installed UNKNOWN-0.0.0\n"
          ],
          "name": "stdout"
        }
      ]
    },
    {
      "cell_type": "markdown",
      "metadata": {
        "id": "3c9897ouMgck",
        "colab_type": "text"
      },
      "source": [
        "After the above, the code should be all set up. You can now import and use it, interact with the repo using git, and run the tests."
      ]
    },
    {
      "cell_type": "code",
      "metadata": {
        "id": "H9YKPIp5H-XI",
        "colab_type": "code",
        "colab": {
          "base_uri": "https://localhost:8080/",
          "height": 35
        },
        "outputId": "93c4531a-8bda-481f-eebb-b3a244c680c8"
      },
      "source": [
        "from hello_world.hello_world import hello\n",
        "hello(\"Me\")"
      ],
      "execution_count": null,
      "outputs": [
        {
          "output_type": "execute_result",
          "data": {
            "application/vnd.google.colaboratory.intrinsic+json": {
              "type": "string"
            },
            "text/plain": [
              "'Helo Me'"
            ]
          },
          "metadata": {
            "tags": []
          },
          "execution_count": 5
        }
      ]
    },
    {
      "cell_type": "code",
      "metadata": {
        "id": "s3XmUE62H_P6",
        "colab_type": "code",
        "colab": {
          "base_uri": "https://localhost:8080/",
          "height": 102
        },
        "outputId": "e2b7ca4f-95e7-41d6-b7c0-08eac53af0a5"
      },
      "source": [
        "%ls\n",
        "!git status"
      ],
      "execution_count": null,
      "outputs": [
        {
          "output_type": "stream",
          "text": [
            "\u001b[0m\u001b[01;34mhello_world\u001b[0m/  LICENSE  pyproject.toml  README.md\n",
            "On branch main\n",
            "Your branch is up to date with 'origin/main'.\n",
            "\n",
            "nothing to commit, working tree clean\n"
          ],
          "name": "stdout"
        }
      ]
    },
    {
      "cell_type": "code",
      "metadata": {
        "id": "yjI2fwfDIDaO",
        "colab_type": "code",
        "colab": {
          "base_uri": "https://localhost:8080/",
          "height": 357
        },
        "outputId": "fbaeb173-35ce-4705-d77b-baa5fd259a95"
      },
      "source": [
        "!python -m pytest"
      ],
      "execution_count": null,
      "outputs": [
        {
          "output_type": "stream",
          "text": [
            "\u001b[1m============================= test session starts ==============================\u001b[0m\n",
            "platform linux -- Python 3.6.9, pytest-3.6.4, py-1.9.0, pluggy-0.7.1\n",
            "rootdir: /content/environment-setup-kiyo-masui, inifile:\n",
            "plugins: typeguard-2.7.1\n",
            "\u001b[1m\rcollecting 0 items                                                             \u001b[0m\u001b[1m\rcollecting 1 item                                                              \u001b[0m\u001b[1m\rcollected 1 item                                                               \u001b[0m\n",
            "\n",
            "hello_world/tests/test_hello_world.py F\u001b[36m                                  [100%]\u001b[0m\n",
            "\n",
            "=================================== FAILURES ===================================\n",
            "\u001b[31m\u001b[1m______________________________ test_hellow_world _______________________________\u001b[0m\n",
            "\n",
            "\u001b[1m    def test_hellow_world():\u001b[0m\n",
            "\u001b[1m>       assert hello(\"Frank\") == \"Hello Frank\"\u001b[0m\n",
            "\u001b[1m\u001b[31mE       AssertionError: assert 'Helo Frank' == 'Hello Frank'\u001b[0m\n",
            "\u001b[1m\u001b[31mE         - Helo Frank\u001b[0m\n",
            "\u001b[1m\u001b[31mE         + Hello Frank\u001b[0m\n",
            "\u001b[1m\u001b[31mE         ?    +\u001b[0m\n",
            "\n",
            "\u001b[1m\u001b[31mhello_world/tests/test_hello_world.py\u001b[0m:6: AssertionError\n",
            "\u001b[31m\u001b[1m=========================== 1 failed in 0.04 seconds ===========================\u001b[0m\n"
          ],
          "name": "stdout"
        }
      ]
    },
    {
      "cell_type": "code",
      "metadata": {
        "id": "r-CU_KC9OkWe",
        "colab_type": "code",
        "colab": {}
      },
      "source": [
        ""
      ],
      "execution_count": null,
      "outputs": []
    }
  ]
}